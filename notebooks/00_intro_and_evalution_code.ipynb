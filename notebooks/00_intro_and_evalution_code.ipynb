{
  "cells": [
    {
      "cell_type": "markdown",
      "metadata": {
        "id": "view-in-github",
        "colab_type": "text"
      },
      "source": [
        "<a href=\"https://colab.research.google.com/github/ocriado91/SpocMining/blob/5-data-exploration-notebook/notebooks/00_intro_and_evalution_code.ipynb\" target=\"_parent\"><img src=\"https://colab.research.google.com/assets/colab-badge.svg\" alt=\"Open In Colab\"/></a>"
      ]
    },
    {
      "cell_type": "markdown",
      "source": [
        "# Introduction to SpOC - Mine the Belt Challenge\n",
        "\n",
        "As part of [2022 SpOC (space competition challenge)](https://www.esa.int/gsp/ACT/projects/gecco-2022-competition/) in partnership with GECCO, the ESA's Advanced Concepts Team hosted this challenge.\n",
        "\n",
        "The goal is to optimize the route of a miner rover between an asteroid belt (10000 asteroids) to collect as much as possible material within three material types (gold, platinum, and nickel) without run-out fuel being possible to refuel at some asteroids."
      ],
      "metadata": {
        "id": "HYkBmkIDVm0n"
      }
    },
    {
      "cell_type": "markdown",
      "metadata": {
        "id": "iy-5PIdY8cby"
      },
      "source": [
        "# Introduction to pykep\n",
        "\n",
        "The organizators provide us with the following [depdencies](https://optimise.esa.int/challenge/spoc-mining/Dependencies) used into the evaluation code of the challenge (we wll discuss about this code later):\n",
        "\n",
        "* pykep >= 2.6\n",
        "* matplotlib >= 3.4.3\n",
        "* numpy >= 1.12.0\n",
        "\n",
        "The `matplotlib` and `numpy` packages are well-known by the Python comunity, but the [`pykep`](https://esa.github.io/pykep/) package is an ad-hoc scientific library developed by ESA to provide basic tools for astrodynamics research hosted into [Github](https://github.com/esa/pykep)"
      ]
    },
    {
      "cell_type": "markdown",
      "source": [
        "# Installation from conda\n",
        "To execute conda into the notebook we need to install `condacolab` package.\n",
        "\n",
        "__NOTE__: We need to restart the kernel after package installation."
      ],
      "metadata": {
        "id": "nm5riuBsP0cx"
      }
    },
    {
      "cell_type": "code",
      "source": [
        "!pip install -q condacolab\n",
        "import condacolab\n",
        "condacolab.install()"
      ],
      "metadata": {
        "id": "fXHF2L4EQMmb",
        "outputId": "5c44c818-deea-4dc1-c4dd-4afd6d09db81",
        "colab": {
          "base_uri": "https://localhost:8080/"
        }
      },
      "execution_count": 1,
      "outputs": [
        {
          "output_type": "stream",
          "name": "stdout",
          "text": [
            "\u001b[33mWARNING: Running pip as the 'root' user can result in broken permissions and conflicting behaviour with the system package manager. It is recommended to use a virtual environment instead: https://pip.pypa.io/warnings/venv\u001b[0m\u001b[33m\n",
            "\u001b[0m✨🍰✨ Everything looks OK!\n"
          ]
        }
      ]
    },
    {
      "cell_type": "markdown",
      "source": [
        "And now we can install the `pykep` package using `conda`:"
      ],
      "metadata": {
        "id": "Ii0Mi6r-Qae9"
      }
    },
    {
      "cell_type": "code",
      "source": [
        "!conda install pykep"
      ],
      "metadata": {
        "id": "UsgmtrgpQgBK",
        "outputId": "593343d1-d27b-45cd-c375-dbf8e203aa12",
        "colab": {
          "base_uri": "https://localhost:8080/"
        }
      },
      "execution_count": 2,
      "outputs": [
        {
          "output_type": "stream",
          "name": "stdout",
          "text": [
            "Channels:\n",
            " - conda-forge\n",
            "Platform: linux-64\n",
            "Collecting package metadata (repodata.json): - \b\b\\ \b\b| \b\b/ \b\b- \b\b\\ \b\b| \b\b/ \b\b- \b\b\\ \b\b| \b\b/ \b\b- \b\b\\ \b\b| \b\b/ \b\b- \b\b\\ \b\b| \b\b/ \b\b- \b\b\\ \b\b| \b\b/ \b\b- \b\b\\ \b\b| \b\b/ \b\b- \b\b\\ \b\b| \b\b/ \b\b- \b\b\\ \b\b| \b\b/ \b\b- \b\b\\ \b\b| \b\b/ \b\b- \b\b\\ \b\b| \b\b/ \b\b- \b\b\\ \b\b| \b\b/ \b\b- \b\b\\ \b\b| \b\b/ \b\b- \b\b\\ \b\b| \b\b/ \b\b- \b\b\\ \b\b| \b\b/ \b\b- \b\b\\ \b\b| \b\b/ \b\b- \b\b\\ \b\b| \b\b/ \b\b- \b\b\\ \b\b| \b\b/ \b\b- \b\b\\ \b\b| \b\b/ \b\b- \b\b\\ \b\b| \b\b/ \b\b- \b\b\\ \b\b| \b\b/ \b\b- \b\b\\ \b\b| \b\b/ \b\b- \b\b\\ \b\b| \b\b/ \b\b- \b\b\\ \b\b| \b\b/ \b\b- \b\b\\ \b\b| \b\b/ \b\b- \b\b\\ \b\b| \b\b/ \b\b- \b\b\\ \b\b| \b\b/ \b\b- \b\b\\ \b\b| \b\b/ \b\b- \b\b\\ \b\b| \b\b/ \b\b- \b\b\\ \b\b| \b\b/ \b\b- \b\b\\ \b\b| \b\b/ \b\b- \b\b\\ \b\b| \b\b/ \b\b- \b\b\\ \b\b| \b\b/ \b\b- \b\b\\ \b\b| \b\b/ \b\b- \b\b\\ \b\b| \b\b/ \b\b- \b\b\\ \b\b| \b\b/ \b\b- \b\b\\ \b\b| \b\b/ \b\b- \b\b\\ \b\b| \b\b/ \b\b- \b\b\\ \b\b| \b\b/ \b\b- \b\b\\ \b\b| \b\b/ \b\b- \b\b\\ \b\b| \b\b/ \b\b- \b\b\\ \b\b| \b\b/ \b\b- \b\b\\ \b\b| \b\b/ \b\b- \b\b\\ \b\b| \b\b/ \b\b- \b\b\\ \b\b| \b\b/ \b\b- \b\b\\ \b\b| \b\b/ \b\b- \b\b\\ \b\b| \b\b/ \b\b- \b\b\\ \b\b| \b\b/ \b\b- \b\b\\ \b\b| \b\b/ \b\b- \b\b\\ \b\b| \b\b/ \b\b- \b\b\\ \b\b| \b\b/ \b\b- \b\b\\ \b\b| \b\b/ \b\b- \b\b\\ \b\b| \b\b/ \b\b- \b\b\\ \b\b| \b\b/ \b\b- \b\b\\ \b\b| \b\b/ \b\b- \b\b\\ \b\b| \b\b/ \b\b- \b\b\\ \b\b| \b\b/ \b\b- \b\b\\ \b\bdone\n",
            "Solving environment: / \b\b- \b\b\\ \b\b| \b\bdone\n",
            "\n",
            "\n",
            "==> WARNING: A newer version of conda exists. <==\n",
            "    current version: 23.11.0\n",
            "    latest version: 24.4.0\n",
            "\n",
            "Please update conda by running\n",
            "\n",
            "    $ conda update -n base -c conda-forge conda\n",
            "\n",
            "\n",
            "\n",
            "# All requested packages already installed.\n",
            "\n"
          ]
        }
      ]
    },
    {
      "cell_type": "markdown",
      "metadata": {
        "id": "3zWMJSdY-Mup"
      },
      "source": [
        "# Input data\n",
        "\n",
        "In this challenge, a [input data](https://api.optimize.esa.int/data/spoc/mining/candidates.txt) is provided with all asteroids into with the following format:\n",
        "\n",
        "| ID | Semi-major axis [m] | Eccentricity | Inclination [rad] | Ascending Node [rad] | Argument of Periapsis [rad] | True Anomaly [rad] | Mass [0 to 1] | Material Type |\n",
        "|:--:|:-------------------:|:------------:|:-----------------:|:--------------------:|:---------------------------:|:------------------:|:-------------:|:-------------:|\n",
        "| 0  | 2.8847e10           | 1.2569e-3    | 1.5133e-1         | 2.9316               | 4.1909                      | 1.4043             | 9.2185e-1     | 0             |"
      ]
    },
    {
      "cell_type": "code",
      "execution_count": 3,
      "metadata": {
        "id": "q-Wvr0Jt-RAQ",
        "colab": {
          "base_uri": "https://localhost:8080/"
        },
        "outputId": "4ca29509-51ed-4e79-cb79-0883162dbdc0"
      },
      "outputs": [
        {
          "output_type": "stream",
          "name": "stdout",
          "text": [
            "--2024-05-10 16:11:23--  https://api.optimize.esa.int/data/spoc/mining/candidates.txt\n",
            "Resolving api.optimize.esa.int (api.optimize.esa.int)... 195.169.140.114\n",
            "Connecting to api.optimize.esa.int (api.optimize.esa.int)|195.169.140.114|:443... connected.\n",
            "HTTP request sent, awaiting response... 200 OK\n",
            "Length: 2250000 (2.1M) [text/plain]\n",
            "Saving to: ‘candidates.txt.3’\n",
            "\n",
            "candidates.txt.3    100%[===================>]   2.15M  3.16MB/s    in 0.7s    \n",
            "\n",
            "2024-05-10 16:11:24 (3.16 MB/s) - ‘candidates.txt.3’ saved [2250000/2250000]\n",
            "\n"
          ]
        }
      ],
      "source": [
        "!wget https://api.optimize.esa.int/data/spoc/mining/candidates.txt"
      ]
    },
    {
      "cell_type": "markdown",
      "source": [
        "# Data Exploration\n",
        "\n",
        "Once the packages are installed and the `candidates` asteroids file downloaded, we can begin with the data exploration to extract the first insights of the challenge's data."
      ],
      "metadata": {
        "id": "z4BdzVHQ0VIS"
      }
    },
    {
      "cell_type": "markdown",
      "source": [
        "## Imports\n",
        "\n",
        "First of all, we need to import the Python packages that we are going to use into this data exploration. At this moment, just we are going to use:\n",
        "\n",
        "* `polars`: I'm a very fan of this package due to its performance and I use it into all my data projects.\n",
        "* `pykep`: Th installed packaged into previous steps.\n",
        "* `seaborn`: To generate plots."
      ],
      "metadata": {
        "id": "G1oa6M0f0oke"
      }
    },
    {
      "cell_type": "code",
      "source": [
        "import matplotlib.pyplot as plt\n",
        "import polars as pl\n",
        "import pykep as pk\n",
        "import seaborn as sns"
      ],
      "metadata": {
        "id": "MdXIZkiQ0sei",
        "outputId": "968f7f47-1b66-4ef9-b863-3b8477fd253b",
        "colab": {
          "base_uri": "https://localhost:8080/"
        }
      },
      "execution_count": 4,
      "outputs": [
        {
          "output_type": "stream",
          "name": "stderr",
          "text": [
            "/usr/local/lib/python3.10/site-packages/pykep/util/gravity_spherical_harmonic.py:156: NumbaDeprecationWarning: \u001b[1mThe 'nopython' keyword argument was not supplied to the 'numba.jit' decorator. The implicit default value for this argument is currently False, but it will be changed to True in Numba 0.59.0. See https://numba.readthedocs.io/en/stable/reference/deprecation.html#deprecation-of-object-mode-fall-back-behaviour-when-using-jit for details.\u001b[0m\n",
            "  def _calculate_normalisation_parameters(n_max):\n"
          ]
        }
      ]
    },
    {
      "cell_type": "markdown",
      "source": [
        "## Reading input data\n",
        "\n",
        "We can use `polars` to read `candidates` asteroids file and store it as Dataframe, add the column headers (because they are not in the input data file), and cast `ID` and `Material Type` columns as integers to manage easier later."
      ],
      "metadata": {
        "id": "HUrFEwgI03AI"
      }
    },
    {
      "cell_type": "code",
      "source": [
        "# Set custom headers\n",
        "HEADER = [\"ID\",\n",
        "          \"Semi-major axis [m]\",\n",
        "          \"Eccentricity\",\n",
        "          \"Inclination [rad]\",\n",
        "          \"Ascending Node [rad]\",\n",
        "          \"Argument of Periapsis [rad]\",\n",
        "          \"True Anomaly [rad]\",\n",
        "          \"Mass [0 to 1]\",\n",
        "          \"Material Type\"]\n",
        "\n",
        "# Read asteroid candidates file\n",
        "data = pl.read_csv(\"candidates.txt\",\n",
        "                   separator=\" \",\n",
        "                   new_columns=HEADER)\n",
        "\n",
        "# Cast columns\n",
        "data = data.cast({\"ID\": pl.UInt16,\n",
        "           \"Material Type\": pl.UInt8})\n",
        "\n",
        "# Show head\n",
        "data.head()"
      ],
      "metadata": {
        "id": "mNendQOW01IK",
        "outputId": "970ee24d-95b5-4529-94a3-a1d46ab49a05",
        "colab": {
          "base_uri": "https://localhost:8080/",
          "height": 255
        }
      },
      "execution_count": 5,
      "outputs": [
        {
          "output_type": "execute_result",
          "data": {
            "text/plain": [
              "shape: (5, 9)\n",
              "┌─────┬────────────┬────────────┬────────────┬───┬────────────┬────────────┬───────────┬───────────┐\n",
              "│ ID  ┆ Semi-major ┆ Eccentrici ┆ Inclinatio ┆ … ┆ Argument   ┆ True       ┆ Mass [0   ┆ Material  │\n",
              "│ --- ┆ axis [m]   ┆ ty         ┆ n [rad]    ┆   ┆ of         ┆ Anomaly    ┆ to 1]     ┆ Type      │\n",
              "│ u16 ┆ ---        ┆ ---        ┆ ---        ┆   ┆ Periapsis  ┆ [rad]      ┆ ---       ┆ ---       │\n",
              "│     ┆ f64        ┆ f64        ┆ f64        ┆   ┆ [rad]      ┆ ---        ┆ f64       ┆ u8        │\n",
              "│     ┆            ┆            ┆            ┆   ┆ ---        ┆ f64        ┆           ┆           │\n",
              "│     ┆            ┆            ┆            ┆   ┆ f64        ┆            ┆           ┆           │\n",
              "╞═════╪════════════╪════════════╪════════════╪═══╪════════════╪════════════╪═══════════╪═══════════╡\n",
              "│ 1   ┆ 3.0835e10  ┆ 0.008338   ┆ 0.079912   ┆ … ┆ 5.042492   ┆ 2.617431   ┆ 0.65811   ┆ 3         │\n",
              "│ 2   ┆ 2.3826e10  ┆ 0.006097   ┆ 0.006188   ┆ … ┆ 4.589027   ┆ 2.075072   ┆ 0.964783  ┆ 1         │\n",
              "│ 3   ┆ 3.0512e10  ┆ 0.001916   ┆ 0.072551   ┆ … ┆ 3.250898   ┆ 1.168246   ┆ 0.451917  ┆ 0         │\n",
              "│ 4   ┆ 2.9867e10  ┆ 0.000553   ┆ 0.013222   ┆ … ┆ 4.200775   ┆ 3.918279   ┆ 0.668809  ┆ 2         │\n",
              "│ 5   ┆ 3.3090e10  ┆ 0.004041   ┆ 0.103529   ┆ … ┆ 5.481973   ┆ 5.145668   ┆ 0.403246  ┆ 2         │\n",
              "└─────┴────────────┴────────────┴────────────┴───┴────────────┴────────────┴───────────┴───────────┘"
            ],
            "text/html": [
              "<div><style>\n",
              ".dataframe > thead > tr,\n",
              ".dataframe > tbody > tr {\n",
              "  text-align: right;\n",
              "  white-space: pre-wrap;\n",
              "}\n",
              "</style>\n",
              "<small>shape: (5, 9)</small><table border=\"1\" class=\"dataframe\"><thead><tr><th>ID</th><th>Semi-major axis [m]</th><th>Eccentricity</th><th>Inclination [rad]</th><th>Ascending Node [rad]</th><th>Argument of Periapsis [rad]</th><th>True Anomaly [rad]</th><th>Mass [0 to 1]</th><th>Material Type</th></tr><tr><td>u16</td><td>f64</td><td>f64</td><td>f64</td><td>f64</td><td>f64</td><td>f64</td><td>f64</td><td>u8</td></tr></thead><tbody><tr><td>1</td><td>3.0835e10</td><td>0.008338</td><td>0.079912</td><td>3.912543</td><td>5.042492</td><td>2.617431</td><td>0.65811</td><td>3</td></tr><tr><td>2</td><td>2.3826e10</td><td>0.006097</td><td>0.006188</td><td>4.83121</td><td>4.589027</td><td>2.075072</td><td>0.964783</td><td>1</td></tr><tr><td>3</td><td>3.0512e10</td><td>0.001916</td><td>0.072551</td><td>2.277854</td><td>3.250898</td><td>1.168246</td><td>0.451917</td><td>0</td></tr><tr><td>4</td><td>2.9867e10</td><td>0.000553</td><td>0.013222</td><td>3.530913</td><td>4.200775</td><td>3.918279</td><td>0.668809</td><td>2</td></tr><tr><td>5</td><td>3.3090e10</td><td>0.004041</td><td>0.103529</td><td>2.281561</td><td>5.481973</td><td>5.145668</td><td>0.403246</td><td>2</td></tr></tbody></table></div>"
            ]
          },
          "metadata": {},
          "execution_count": 5
        }
      ]
    },
    {
      "cell_type": "markdown",
      "source": [
        "## Analysis\n",
        "\n",
        "So, once all python packages are installed and the input data read, we can start with our data exploration given answers to a questions:"
      ],
      "metadata": {
        "id": "Wqok1EyF1XMv"
      }
    },
    {
      "cell_type": "markdown",
      "source": [
        "### Q1. How many asteroids are of each type are?\n",
        "\n",
        "According to the challenge description, the materials are equally distributed, but this is correct?"
      ],
      "metadata": {
        "id": "2efpIs761bGe"
      }
    },
    {
      "cell_type": "code",
      "source": [
        "# Plot count\n",
        "g = sns.countplot(data,\n",
        "              x=\"Material Type\",\n",
        "              hue=\"Material Type\",\n",
        "              palette=\"pastel\")\n",
        "\n",
        "# Transform X-tick labels and legend label to material name\n",
        "labels = [\"Gold\", \"Platinum\", \"Nickel\", \"Fuel\"]\n",
        "g.set_xticks([0, 1, 2, 3])\n",
        "g.set_xticklabels(labels)\n",
        "g.legend(labels=labels)\n",
        "\n",
        "# Extract the count of asteroids by material type\n",
        "count_gold = data.filter(pl.col(\"Material Type\") == 0).height\n",
        "count_platinum = data.filter(pl.col(\"Material Type\") == 1).height\n",
        "count_nickel = data.filter(pl.col(\"Material Type\") == 2).height\n",
        "count_fuel = data.filter(pl.col(\"Material Type\") == 3).height\n",
        "\n",
        "# Add all counts into a list to write its values into countplot\n",
        "counts = [count_gold, count_platinum, count_nickel, count_fuel]\n",
        "for i in range(len(counts)):\n",
        "  g.text(x=i,\n",
        "         y=counts[i],\n",
        "         s=str(counts[i]),\n",
        "         horizontalalignment=\"center\")"
      ],
      "metadata": {
        "id": "tSSwWcxr1i3m",
        "outputId": "c5295c52-fa32-4e17-bfb1-f9ffc7e3df60",
        "colab": {
          "base_uri": "https://localhost:8080/",
          "height": 449
        }
      },
      "execution_count": 6,
      "outputs": [
        {
          "output_type": "display_data",
          "data": {
            "text/plain": [
              "<Figure size 640x480 with 1 Axes>"
            ],
            "image/png": "[encoded data removed]"
          },
          "metadata": {}
        }
      ]
    },
    {
      "cell_type": "markdown",
      "source": [
        "Ok, it is clear that ***we don't have a balanced distribution of asteroid by material type.***"
      ],
      "metadata": {
        "id": "m-9MtLbz1o5Z"
      }
    },
    {
      "cell_type": "markdown",
      "source": [
        "### Q2. What is the maximum mass that the rover can mine?\n",
        "\n",
        "According to challenge description, the final score is determined by the minimum of collected material of the tree types. So, we can obtain the theoretical maximum score according to asteroids data:"
      ],
      "metadata": {
        "id": "bCeMiqZV1uE7"
      }
    },
    {
      "cell_type": "code",
      "source": [
        "# Plot count\n",
        "g = sns.barplot(data.filter(pl.col(\"Material Type\") != 3),\n",
        "                x=\"Material Type\",\n",
        "                y=\"Mass [0 to 1]\",\n",
        "                hue=\"Material Type\",\n",
        "                estimator=\"sum\",\n",
        "                errorbar=None,\n",
        "                palette=\"pastel\")\n",
        "\n",
        "# Transform X-tick labels and legend label to material name\n",
        "labels = [\"Gold\", \"Platinum\", \"Nickel\"]\n",
        "g.set_xticks([0, 1, 2])\n",
        "g.set_xticklabels(labels)\n",
        "g.legend(labels=labels)\n",
        "\n",
        "# Extract the count of asteroids by material type\n",
        "mass_gold = data.filter(\n",
        "    pl.col(\"Material Type\") == 0\n",
        ").sum()[\"Mass [0 to 1]\"].item()\n",
        "\n",
        "mass_platinum = data.filter(\n",
        "    pl.col(\"Material Type\") == 1\n",
        ").sum()[\"Mass [0 to 1]\"].item()\n",
        "mass_nickel = data.filter(\n",
        "    pl.col(\"Material Type\") == 2\n",
        ").sum()[\"Mass [0 to 1]\"].item()\n",
        "\n",
        "# Add all counts into a list to write its values into countplot\n",
        "total_mass = [mass_gold, mass_platinum, mass_nickel]\n",
        "for i in range(len(total_mass)):\n",
        "  text = \"{:.2f}\".format(total_mass[i])\n",
        "  g.text(x=i,\n",
        "         y=int(total_mass[i]) + 10, # Put vertical position\n",
        "         s=text,\n",
        "         horizontalalignment=\"center\")"
      ],
      "metadata": {
        "id": "gUg2m1ML10WO",
        "outputId": "a533ba36-d935-4848-dba3-5aa4f1093162",
        "colab": {
          "base_uri": "https://localhost:8080/",
          "height": 449
        }
      },
      "execution_count": 7,
      "outputs": [
        {
          "output_type": "display_data",
          "data": {
            "text/plain": [
              "<Figure size 640x480 with 1 Axes>"
            ],
            "image/png": "[encoded data removed]"
          },
          "metadata": {}
        }
      ]
    },
    {
      "cell_type": "markdown",
      "source": [
        "### Q3. Is there the mass balacend between asteroid by material type?\n",
        "\n",
        "The next point is to check if the mass of each material is balanced or there are\n",
        "multiple asteroids with the same mass?"
      ],
      "metadata": {
        "id": "yugdoc7eFjrj"
      }
    },
    {
      "cell_type": "code",
      "source": [
        "g = sns.kdeplot(data.filter(pl.col(\"Material Type\") != 3),\n",
        "                x=\"Mass [0 to 1]\",\n",
        "                hue=\"Material Type\",\n",
        "                palette=\"pastel\")\n",
        "# Transform legend label to material name\n",
        "labels = [\"Gold\", \"Platinum\", \"Nickel\"]\n",
        "g.legend(labels=labels)"
      ],
      "metadata": {
        "id": "AG2VpVZeGAO7",
        "outputId": "76b4ba84-244e-4d09-9c01-aa0e398a73f3",
        "colab": {
          "base_uri": "https://localhost:8080/",
          "height": 466
        }
      },
      "execution_count": 8,
      "outputs": [
        {
          "output_type": "execute_result",
          "data": {
            "text/plain": [
              "<matplotlib.legend.Legend at 0x7f3868623c70>"
            ]
          },
          "metadata": {},
          "execution_count": 8
        },
        {
          "output_type": "display_data",
          "data": {
            "text/plain": [
              "<Figure size 640x480 with 1 Axes>"
            ],
            "image/png": "[encoded data removed]"
          },
          "metadata": {}
        }
      ]
    },
    {
      "cell_type": "markdown",
      "source": [
        "# Evaluation code"
      ],
      "metadata": {
        "id": "gR0PQuhtNcWZ"
      }
    },
    {
      "cell_type": "markdown",
      "source": [
        "Also, the hosted provided us with an [evaluation code](https://api.optimize.esa.int/media/problems/spoc-mining-mine-the-belt-1679404403080.py) to compute the score passing a list of asteroid, times of arrival and times of mining:"
      ],
      "metadata": {
        "id": "zSpl0GacRcnj"
      }
    },
    {
      "cell_type": "code",
      "execution_count": 9,
      "metadata": {
        "id": "-IKJ6CVV-VXL"
      },
      "outputs": [],
      "source": [
        "import numpy as np\n",
        "import pykep as pk\n",
        "\n",
        "################\n",
        "### Constants\n",
        "################\n",
        "\n",
        "# Start and end epochs\n",
        "T_START = pk.epoch_from_iso_string(\"30190302T000000\")\n",
        "T_END = pk.epoch_from_iso_string(\"30240302T000000\")\n",
        "\n",
        "# Cavendish constant (m^3/s^2/kg)\n",
        "G = 6.67430e-11\n",
        "\n",
        "# Sun_mass (kg)\n",
        "SM = 1.989e30\n",
        "\n",
        "# Mass and Mu of the Trappist-1 star\n",
        "MS = 8.98266512e-2 * SM\n",
        "MU_TRAPPIST = G * MS\n",
        "\n",
        "# DV per fuel [m/s]\n",
        "DV_per_fuel = 10000\n",
        "\n",
        "# Maximum time to fully mine an asteroid\n",
        "TIME_TO_MINE_FULLY = 30\n",
        "\n",
        "# Loading the asteroid data\n",
        "data = np.loadtxt(\"candidates.txt\")\n",
        "asteroids = []\n",
        "for line in data:\n",
        "    p = pk.planet.keplerian(\n",
        "        T_START,\n",
        "        (\n",
        "            line[1],\n",
        "            line[2],\n",
        "            line[3],\n",
        "            line[4],\n",
        "            line[5],\n",
        "            line[6],\n",
        "        ),\n",
        "        MU_TRAPPIST,\n",
        "        G * line[7],  # mass in planet is not used in UDP, instead separate array below\n",
        "        1,  # these variable are not relevant for this problem\n",
        "        1.1,  # these variable are not relevant for this problem\n",
        "        \"Asteroid \" + str(int(line[0])),\n",
        "    )\n",
        "    asteroids.append(p)\n",
        "\n",
        "# And asteroids' masses and material type\n",
        "asteroid_masses = data[:, -2]\n",
        "asteroid_materials = data[:, -1].astype(int)\n",
        "\n",
        "\n",
        "def convert_to_chromosome(solution, check_correctness=True):\n",
        "    \"\"\"Convert a solution to a fixed-length chromosome to be compatible with the optimize and pygmo framework.\n",
        "\n",
        "    Args:\n",
        "        solution (list or np.array): The solution to be converted. Has to have format [t_arrival_0, ..., t_arrival_n, t_mining_0, ..., t_mining_n, ast_id_0, ..., ast_id_n]\n",
        "        check_correctness (bool): If True, the function will check if the solution fulfills some validity checks (unique asteroids, solution length).\n",
        "\n",
        "    Returns:\n",
        "        np.array: The chromosome as required by optimize / pygmo.\n",
        "    \"\"\"\n",
        "    N = len(solution) // 3  # number of asteroids in chromosome\n",
        "    ast_ids = solution[2 * N :]  # ids of the visited asteroids\n",
        "\n",
        "    # Check if the solution is valid\n",
        "    if check_correctness:\n",
        "        assert (\n",
        "            len(solution) % 3 == 0\n",
        "        ), \"Solution must be a multiple of 3 containing asteroid id, arrival time and time to mine. for each visit.\"\n",
        "\n",
        "        assert (\n",
        "            len(set(ast_ids)) - len(ast_ids) == 0\n",
        "        ), \"Asteroid IDs must be unique, can only visit each asteroid once.\"\n",
        "\n",
        "    # The final chromosome will need to contain all asteroids, so we need to\n",
        "    # add the asteroids to the chromosome that are not in the solution\n",
        "    chromosome = np.zeros(30000, dtype=np.float64)\n",
        "\n",
        "    # Set placeholder values for mining times and arrival times for irrelevant chromosome entries\n",
        "    chromosome[N:10000] = 0\n",
        "    chromosome[10000 + N : 20000] = 0\n",
        "\n",
        "    # Add time of arrivals and mining times\n",
        "    chromosome[:N] = solution[:N]\n",
        "    chromosome[10000 : 10000 + N] = solution[N : 2 * N]\n",
        "\n",
        "    # Add the asteroids that are in the solution\n",
        "    chromosome[20000 : 20000 + N] = ast_ids\n",
        "\n",
        "    # Add the asteroids that are not in the solution.\n",
        "    # There is the potential of a very rare edgecase where by conincidence the next\n",
        "    # asteroid added this way could still be visited but this is excessively unlikely\n",
        "    ast_not_in_solution = set(np.arange(10000)).symmetric_difference(set(ast_ids))\n",
        "    chromosome[20000 + N :] = np.array(list(ast_not_in_solution))\n",
        "\n",
        "    return chromosome\n",
        "\n",
        "\n",
        "class belt_mining_udp:\n",
        "    \"\"\"\n",
        "    pygmo User Defined Problem (UDP) describing the optimization problem.\n",
        "    https://esa.github.io/pygmo2/tutorials/coding_udp_simple.html explains what more details on UDPs.\n",
        "    \"\"\"\n",
        "\n",
        "    def __init__(self, mission_window):\n",
        "        \"\"\"Initialize the UDP.\n",
        "\n",
        "        Args:\n",
        "            mission_window (list [float, float]): Bounds on the overall mission in days.\n",
        "        \"\"\"\n",
        "        self.asteroids = asteroids\n",
        "        self.asteroid_masses = asteroid_masses\n",
        "        self.asteroid_materials_types = asteroid_materials\n",
        "        self.mission_window = mission_window\n",
        "        self.n = len(self.asteroids)\n",
        "        self.MU = MU_TRAPPIST\n",
        "\n",
        "    def get_bounds(self):\n",
        "        \"\"\"Get bounds for the decision variables.\n",
        "\n",
        "        Returns:\n",
        "            Tuple of lists: bounds for the decision variables.\n",
        "        \"\"\"\n",
        "        lb = [self.mission_window[0]] * self.n + [0] * self.n + [0] * self.n\n",
        "        ub = [self.mission_window[1]] * self.n + [60] * self.n + [self.n - 1] * self.n\n",
        "        return (lb, ub)\n",
        "\n",
        "    def get_nix(self):\n",
        "        \"\"\"Get number of integer variables.\n",
        "\n",
        "        Returns:\n",
        "            int: number of integer variables.\n",
        "        \"\"\"\n",
        "        return self.n\n",
        "\n",
        "    def get_nic(self):\n",
        "        \"\"\"Get number of inequality constraints.\n",
        "\n",
        "        Returns:\n",
        "            int: number of inequality constraints.\n",
        "        \"\"\"\n",
        "        # Inequality constraints are only set to all visiting epochs (except the first)\n",
        "        return self.n - 1\n",
        "\n",
        "    def get_nec(self):\n",
        "        \"\"\"Get number of equality constraints.\n",
        "\n",
        "        Returns:\n",
        "            int: number of equality constraints.\n",
        "        \"\"\"\n",
        "        # The only equality constraint is that each asteroid must be in the list exactly once\n",
        "        return 1\n",
        "\n",
        "    def fitness(self, x, verbose=False):\n",
        "        \"\"\"Evaluate the fitness of the decision variables.\n",
        "\n",
        "        Args:\n",
        "            x (numpy.array): Chromosome for the decision variables.\n",
        "            verbose (bool): If True, print some info.\n",
        "\n",
        "        Returns:\n",
        "            float: Fitness of the chromosome.\n",
        "        \"\"\"\n",
        "        fuel = 1  # fuel level of the ship, cannot go below 0 or we abort\n",
        "        visited = 0  # viable number of visited asteroids, will be computed\n",
        "        n = len(x) // 3  # number of asteroids in chromosome\n",
        "        time_at_arrival = x[:n]  # time at arrival of each asteroid in days\n",
        "        time_spent_mining = x[n : 2 * n]  # how many days spent mining each asteroid\n",
        "        material_collected = [0] * 4  # last is fuel and will be disregarded for score\n",
        "        ast_ids = x[2 * n :]  # ids of the visited asteroids\n",
        "        if verbose:\n",
        "            print(f\"ID\\tt0\\tFuel \\tDV \\t  Material ID\\t Prepared \\t \\tScore\")\n",
        "\n",
        "        # Lets compute the fitness\n",
        "        for i in range(1, n):\n",
        "\n",
        "            # Get indices of currently visited asteroid\n",
        "            # and the previous one\n",
        "            current_ast_id = int(ast_ids[i])\n",
        "            previous_ast_id = int(ast_ids[i - 1])\n",
        "\n",
        "            ###################### Step 1 #######################\n",
        "            # Validate the transfer from asteroid i to i+1      #\n",
        "            #####################################################\n",
        "\n",
        "            # Break as soon as we exceed mission window\n",
        "            if time_at_arrival[i] - time_at_arrival[0] > self.mission_window[1]:\n",
        "                if verbose:\n",
        "                    print(\"Mission window exceeded\")\n",
        "                break\n",
        "\n",
        "            # Also break if the time of flight is too short (avoids singular lambert solutions)\n",
        "            tof = time_at_arrival[i] - time_at_arrival[i - 1] - time_spent_mining[i - 1]\n",
        "            if tof < 0.1:\n",
        "                if verbose:\n",
        "                    print(\"Time of flight too short or reached of chain.\")\n",
        "                break\n",
        "\n",
        "            # Compute the ephemeris of the asteroid we are departing\n",
        "            r1, v1 = self.asteroids[previous_ast_id].eph(\n",
        "                T_START.mjd2000 + time_at_arrival[i - 1] + time_spent_mining[i - 1]\n",
        "            )\n",
        "\n",
        "            # Compute the ephemeris of the next target asteroid\n",
        "            r2, v2 = self.asteroids[current_ast_id].eph(\n",
        "                T_START.mjd2000 + time_at_arrival[i]\n",
        "            )\n",
        "\n",
        "            # Solve the lambert problem for this flight\n",
        "            l = pk.lambert_problem(\n",
        "                r1=r1, r2=r2, tof=tof * pk.DAY2SEC, mu=self.MU, cw=False, max_revs=0\n",
        "            )\n",
        "\n",
        "            # Compute the delta-v necessary to go there and match its velocity\n",
        "            DV1 = [a - b for a, b in zip(v1, l.get_v1()[0])]\n",
        "            DV2 = [a - b for a, b in zip(v2, l.get_v2()[0])]\n",
        "            DV = np.linalg.norm(DV1) + np.linalg.norm(DV2)\n",
        "\n",
        "            # Compute fuel used for this transfer and update ship fuel level\n",
        "            fuel = fuel - DV / DV_per_fuel\n",
        "\n",
        "            # Break if we ran out of fuel during this transfer\n",
        "            if fuel < 0:\n",
        "                if verbose:\n",
        "                    print(\"Out of fuel\")\n",
        "                break\n",
        "\n",
        "            ###################### Step 2 #######################\n",
        "            # If we are here, this asteroid-to-asteroid         #\n",
        "            # jump is possible and we accumulate the mining     #\n",
        "            # resource to the objective function.               #\n",
        "            #####################################################\n",
        "\n",
        "            # Get material of the asteroid we are visiting\n",
        "            mat_idx = self.asteroid_materials_types[current_ast_id]\n",
        "\n",
        "            # Collect as much material as is there or we have time to\n",
        "            material_collected[mat_idx] += np.minimum(\n",
        "                self.asteroid_masses[current_ast_id],\n",
        "                time_spent_mining[i] / TIME_TO_MINE_FULLY,\n",
        "            )\n",
        "\n",
        "            # If this is a fuel asteroid, we add it to the fuel\n",
        "            if mat_idx == 3:\n",
        "                fuel_found = np.minimum(\n",
        "                    self.asteroid_masses[current_ast_id],\n",
        "                    time_spent_mining[i] / TIME_TO_MINE_FULLY,\n",
        "                )\n",
        "                fuel = np.minimum(1.0, fuel + fuel_found)\n",
        "\n",
        "            if verbose:\n",
        "                tank = f\"{material_collected[0]:.2f}|{material_collected[1]:.2f}|{material_collected[2]:.2f}\"\n",
        "                score = np.min(material_collected[:3])\n",
        "                print(\n",
        "                    f\"{current_ast_id}\\t{time_at_arrival[i]:<4.2f}\\t{fuel:<7.2f}\\t{DV:<8.2f}\\t{mat_idx}\\t {tank}\\t\\t{score:.2f}\"\n",
        "                )\n",
        "\n",
        "            visited = visited + 1\n",
        "\n",
        "        # The object function in the end is the minimum\n",
        "        # collected mass of the three non-fuel material types.\n",
        "        obj = np.min(material_collected[:3])\n",
        "\n",
        "        # Now the constraints\n",
        "        # The visited asteroid ids must all be different (equality)\n",
        "        ec = len(set(ast_ids[:visited])) - len(ast_ids[:visited])\n",
        "        # The visiting epoch must be after the previous visiting epoch plus the mining time (inequalities)\n",
        "        ic = [0] * (n - 1)\n",
        "        for i in range(1, visited):\n",
        "            ic[i] = (\n",
        "                time_at_arrival[i - 1] + time_spent_mining[i - 1] - time_at_arrival[i]\n",
        "            )\n",
        "        return [-obj] + [ec] + ic\n",
        "\n",
        "    def pretty(self, x):\n",
        "        \"\"\"Pretty print the chromosome.\n",
        "\n",
        "        Args:\n",
        "            x (numpy.array): Chromosome for the decision variables.\n",
        "\n",
        "        Returns:\n",
        "            str: Pretty print of the chromosome.\n",
        "        \"\"\"\n",
        "        self.fitness(x, True)\n",
        "\n",
        "    def example(self):\n",
        "        \"\"\"Returns an example solution.\"\"\"\n",
        "        # (disable automatic formatting for this)\n",
        "        # fmt: off\n",
        "        t_arr = [0, 11.0, 45.98091676982585, 98.86574387748259, 144.3421379448264, 178.78720680368133, 198.49061810149578, 236.39180345018394, 268.4772894184571]\n",
        "        t_m = [0, 18.980916769828053, 22.88482710766111, 29.47639406736512, 17.445068858837555, 18.703411297804774, 19.901185348707877, 24.085485968277332, 17.543366859589646]\n",
        "        a = [0, 1446, 5131, 4449, 8091, 1516, 151, 4905, 8490]\n",
        "        # fmt: on\n",
        "        return convert_to_chromosome(t_arr + t_m + a)\n",
        "\n",
        "\n",
        "udp = belt_mining_udp([0, 1827.0])"
      ]
    },
    {
      "cell_type": "markdown",
      "source": [
        "This code just initialize the `belt_mining_udp` class passing it the `mission_window` parameter. As you can see, in the evaluation code there is a method called `example` that passes the `time of arrival`, *t_arr*, `time mining`, *t_m*, and `asteroids`, `a`, arrays as a unique array to `convert_to_chromosome` function that returns a 30000x1 array:"
      ],
      "metadata": {
        "id": "3X45EnycRzjc"
      }
    },
    {
      "cell_type": "code",
      "source": [
        "chromosome = udp.example()\n",
        "chromosome.shape"
      ],
      "metadata": {
        "id": "q6SVUU5rSWHu",
        "outputId": "aff781d3-a81a-4129-f47b-42e208227b68",
        "colab": {
          "base_uri": "https://localhost:8080/"
        }
      },
      "execution_count": 10,
      "outputs": [
        {
          "output_type": "execute_result",
          "data": {
            "text/plain": [
              "(30000,)"
            ]
          },
          "metadata": {},
          "execution_count": 10
        }
      ]
    },
    {
      "cell_type": "markdown",
      "source": [
        "Also, we have the `pretty` method that accepts our chromosome array and evalutate it returning the rover journey parametes, the material extracted and the score."
      ],
      "metadata": {
        "id": "oU3t3NJrTr6G"
      }
    },
    {
      "cell_type": "code",
      "source": [
        "udp.pretty(chromosome)"
      ],
      "metadata": {
        "id": "o4at9UhFUh-n",
        "outputId": "31aa9cb4-236f-40b9-aca6-55fcf1e9dee3",
        "colab": {
          "base_uri": "https://localhost:8080/"
        }
      },
      "execution_count": 11,
      "outputs": [
        {
          "output_type": "stream",
          "name": "stdout",
          "text": [
            "ID\tt0\tFuel \tDV \t  Material ID\t Prepared \t \tScore\n",
            "1446\t11.00\t0.44   \t5553.30 \t0\t 0.63|0.00|0.00\t\t0.00\n",
            "5131\t45.98\t0.36   \t805.87  \t0\t 1.40|0.00|0.00\t\t0.00\n",
            "4449\t98.87\t0.28   \t847.84  \t2\t 1.40|0.00|0.98\t\t0.00\n",
            "8091\t144.34\t0.21   \t716.05  \t2\t 1.40|0.00|1.56\t\t0.00\n",
            "1516\t178.79\t0.74   \t928.60  \t3\t 1.40|0.00|1.56\t\t0.00\n",
            "151\t198.49\t0.33   \t4127.70 \t0\t 2.06|0.00|1.56\t\t0.00\n",
            "4905\t236.39\t0.83   \t3031.92 \t3\t 2.06|0.00|1.56\t\t0.00\n",
            "8490\t268.48\t0.39   \t4376.36 \t1\t 2.06|0.58|1.56\t\t0.58\n",
            "Time of flight too short or reached of chain.\n"
          ]
        }
      ]
    },
    {
      "cell_type": "markdown",
      "source": [
        "As you can see, in the `example` method of the evaluation code, 0.58 units of platinum have been recollected by the rover in its journey, being this value the challenge score according to the challenge's objectives"
      ],
      "metadata": {
        "id": "waVPP6I4Uz5o"
      }
    },
    {
      "cell_type": "markdown",
      "source": [
        "# Conclusion\n",
        "\n",
        "In this notebook, we introduced the SpOC Mine the Belt challenge and had a first contact with the ESA astrodynamics Python package, `pykep`. We extract the first insights of the challenge:\n",
        "- The asteroids are not balanced by material type.\n",
        "- There are less material of platinum asteroids (163.02) setting the maximum theoretical score of the challenge.\n",
        "- The asteroids are balanced by mass separated by material type.\n",
        "\n",
        "Also we executed the example of evaluation code and obtains a score of `0.58`.\n",
        "\n",
        "In the following notebooks, we are going to try to exceed this score with our own algorithms.\n",
        "\n",
        "See you! 👋"
      ],
      "metadata": {
        "id": "NT3RCal5ZUbn"
      }
    }
  ],
  "metadata": {
    "colab": {
      "provenance": [],
      "toc_visible": true,
      "authorship_tag": "ABX9TyNkculysxVGx9W8iuCwXkTv",
      "include_colab_link": true
    },
    "kernelspec": {
      "display_name": "Python 3",
      "name": "python3"
    },
    "language_info": {
      "name": "python"
    }
  },
  "nbformat": 4,
  "nbformat_minor": 0
}